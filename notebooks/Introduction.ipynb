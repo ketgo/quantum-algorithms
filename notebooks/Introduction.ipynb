{
 "cells": [
  {
   "cell_type": "code",
   "execution_count": 13,
   "id": "extreme-polish",
   "metadata": {},
   "outputs": [],
   "source": [
    "import numpy as np\n",
    "from qiskit import(\n",
    "  QuantumCircuit,\n",
    "  execute,\n",
    "  Aer)\n",
    "from qiskit.visualization import plot_histogram\n",
    "\n",
    "# Use Aer's qasm_simulator\n",
    "simulator = Aer.get_backend('qasm_simulator')"
   ]
  },
  {
   "cell_type": "markdown",
   "id": "manual-prague",
   "metadata": {},
   "source": [
    "# Quantum Gates"
   ]
  },
  {
   "cell_type": "markdown",
   "id": "false-recipient",
   "metadata": {},
   "source": [
    "The notebook describes the different quantum logic gates used to build quantum circuits. A quantum logic gate (or simply quantum gate) is a basic operation on a small number of qubits. They are the building blocks of quantum circuits like classical logic gates are for conventional digital circuits. \n",
    "\n",
    "Unlike many classical logic gates, quantum logic gates are reversible. However, it is possible to perform classical computing using only reversible gates. For example, the reversible Toffoli gate can implement all Boolean functions, often at the cost of having to use ancilla bits. The Toffoli gate has a direct quantum equivalent, showing that quantum circuits can perform all operations performed by classical circuits."
   ]
  },
  {
   "cell_type": "markdown",
   "id": "julian-cherry",
   "metadata": {},
   "source": [
    "## Basic Properties"
   ]
  },
  {
   "cell_type": "markdown",
   "id": "pacific-welcome",
   "metadata": {},
   "source": [
    "- Quantum logic gates are represented by unitary matrices: $U U^{-1} = I$ \n",
    "- The number of input and output qbits of any quatum gate are same.\n",
    "- A gate acting on $n$ qbits is represented by a $2^{n}\\times 2^{n}$ unitary matrix.\n",
    "- The basis states of the qbits are the eigen states which have spin along the Z-axis. "
   ]
  },
  {
   "cell_type": "markdown",
   "id": "virtual-wilson",
   "metadata": {},
   "source": [
    "## Hadamard (H) Gate"
   ]
  },
  {
   "cell_type": "markdown",
   "id": "saved-gibson",
   "metadata": {},
   "source": [
    "- Acts on a single qubit. \n",
    "- Maps the basis state $|0⟩$ to $\\frac{|0⟩ + |1⟩}{\\sqrt{2}}$ and $|1⟩$ to $\\frac{|0⟩ - |1⟩}{\\sqrt{2}}$, which means that a measurement will have equal probabilities to result in 1 or 0 due to the created superposition. \n",
    "- Represents a rotation of $\\pi$ about the axis Z-axis of the Bloch sphere. \n",
    "- Matrix representation: $$H = \\frac{1}{\\sqrt{2}} \\begin{pmatrix} 1 & 1 \\\\ 1 & -1 \\end{pmatrix}$$"
   ]
  },
  {
   "cell_type": "code",
   "execution_count": 15,
   "id": "broad-setting",
   "metadata": {},
   "outputs": [
    {
     "name": "stdout",
     "output_type": "stream",
     "text": [
      "\n",
      "Total count for 0 and 1 are: {'0': 4919, '1': 5081}\n"
     ]
    },
    {
     "data": {
      "text/html": [
       "<pre style=\"word-wrap: normal;white-space: pre;background: #fff0;line-height: 1.1;font-family: &quot;Courier New&quot;,Courier,monospace\">     ┌───┐┌─┐\n",
       "q_0: ┤ H ├┤M├\n",
       "     └───┘└╥┘\n",
       "c: 1/══════╩═\n",
       "           0 </pre>"
      ],
      "text/plain": [
       "     ┌───┐┌─┐\n",
       "q_0: ┤ H ├┤M├\n",
       "     └───┘└╥┘\n",
       "c: 1/══════╩═\n",
       "           0 "
      ]
     },
     "execution_count": 15,
     "metadata": {},
     "output_type": "execute_result"
    }
   ],
   "source": [
    "# Create a Quantum Circuit acting on the q register\n",
    "circuit = QuantumCircuit(1, 1)\n",
    "\n",
    "# Add a H gate on qubit 0\n",
    "circuit.h(0)\n",
    "\n",
    "# Map the quantum measurement to the classical bits\n",
    "circuit.measure([0], [0])\n",
    "\n",
    "# Execute the circuit on the qasm simulator\n",
    "job = execute(circuit, simulator, shots=10000)\n",
    "\n",
    "# Grab results from the job\n",
    "result = job.result()\n",
    "\n",
    "# Returns counts\n",
    "counts = result.get_counts(circuit)\n",
    "print(\"\\nTotal count for 0 and 1 are:\",counts)\n",
    "\n",
    "# Draw the circuit\n",
    "circuit.draw()"
   ]
  },
  {
   "cell_type": "code",
   "execution_count": 12,
   "id": "wound-exercise",
   "metadata": {},
   "outputs": [
    {
     "data": {
      "image/png": "[encoded data removed]",
      "text/plain": [
       "<Figure size 504x360 with 1 Axes>"
      ]
     },
     "execution_count": 12,
     "metadata": {},
     "output_type": "execute_result"
    }
   ],
   "source": [
    "# Plot a histogram\n",
    "plot_histogram(counts)"
   ]
  },
  {
   "cell_type": "markdown",
   "id": "toxic-estimate",
   "metadata": {},
   "source": [
    "## Pauli-X gate"
   ]
  },
  {
   "cell_type": "markdown",
   "id": "documented-investor",
   "metadata": {},
   "source": [
    "- Acts on a single qubit. \n",
    "- Maps $|0>$ to $|1>$ and $|1>$ to $|0>$, which means the gate is equivalent of the NOT gate for classical computers.\n",
    "- Represents a rotation around the X-axis of the Bloch sphere by $\\pi$ radians.\n",
    "- Matrix representation: $$\\sigma_X = \\begin{pmatrix} 0 & 1 \\\\ 1 & 0 \\end{pmatrix}$$"
   ]
  },
  {
   "cell_type": "code",
   "execution_count": 16,
   "id": "written-polls",
   "metadata": {},
   "outputs": [
    {
     "name": "stdout",
     "output_type": "stream",
     "text": [
      "\n",
      "Total count for 0 and 1 are: {'1': 10000}\n"
     ]
    },
    {
     "data": {
      "text/html": [
       "<pre style=\"word-wrap: normal;white-space: pre;background: #fff0;line-height: 1.1;font-family: &quot;Courier New&quot;,Courier,monospace\">     ┌───┐┌─┐\n",
       "q_0: ┤ X ├┤M├\n",
       "     └───┘└╥┘\n",
       "c: 1/══════╩═\n",
       "           0 </pre>"
      ],
      "text/plain": [
       "     ┌───┐┌─┐\n",
       "q_0: ┤ X ├┤M├\n",
       "     └───┘└╥┘\n",
       "c: 1/══════╩═\n",
       "           0 "
      ]
     },
     "execution_count": 16,
     "metadata": {},
     "output_type": "execute_result"
    }
   ],
   "source": [
    "# Create a Quantum Circuit acting on the q register\n",
    "circuit = QuantumCircuit(1, 1)\n",
    "\n",
    "# Add a H gate on qubit 0\n",
    "circuit.x(0)\n",
    "\n",
    "# Map the quantum measurement to the classical bits\n",
    "circuit.measure([0], [0])\n",
    "\n",
    "# Execute the circuit on the qasm simulator\n",
    "job = execute(circuit, simulator, shots=10000)\n",
    "\n",
    "# Grab results from the job\n",
    "result = job.result()\n",
    "\n",
    "# Returns counts\n",
    "counts = result.get_counts(circuit)\n",
    "print(\"\\nTotal count for 0 and 1 are:\",counts)\n",
    "\n",
    "# Draw the circuit\n",
    "circuit.draw()"
   ]
  },
  {
   "cell_type": "code",
   "execution_count": null,
   "id": "separated-problem",
   "metadata": {},
   "outputs": [],
   "source": []
  }
 ],
 "metadata": {
  "hide_input": false,
  "kernelspec": {
   "display_name": "Python 3",
   "language": "python",
   "name": "python3"
  },
  "language_info": {
   "codemirror_mode": {
    "name": "ipython",
    "version": 3
   },
   "file_extension": ".py",
   "mimetype": "text/x-python",
   "name": "python",
   "nbconvert_exporter": "python",
   "pygments_lexer": "ipython3",
   "version": "3.8.6"
  },
  "toc": {
   "base_numbering": 1,
   "nav_menu": {
    "height": "136px",
    "width": "192px"
   },
   "number_sections": true,
   "sideBar": true,
   "skip_h1_title": false,
   "title_cell": "Table of Contents",
   "title_sidebar": "Contents",
   "toc_cell": false,
   "toc_position": {},
   "toc_section_display": true,
   "toc_window_display": true
  }
 },
 "nbformat": 4,
 "nbformat_minor": 5
}
